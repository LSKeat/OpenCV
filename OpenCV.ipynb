{
 "cells": [
  {
   "cell_type": "code",
   "execution_count": 1,
   "id": "4aa64216",
   "metadata": {},
   "outputs": [],
   "source": [
    "import cv2"
   ]
  },
  {
   "cell_type": "code",
   "execution_count": 4,
   "id": "644d872d",
   "metadata": {},
   "outputs": [],
   "source": [
    "# Image\n",
    "image_path = \"Dragon.png\"\n",
    "img = cv2.imread(image_path)\n",
    "\n",
    "cv2.imshow(\"image\", img)\n",
    "\n",
    "cv2.waitKey(0)\n",
    "cv2.destroyAllWindows()"
   ]
  },
  {
   "cell_type": "code",
   "execution_count": 13,
   "id": "ebf2c8cc",
   "metadata": {},
   "outputs": [],
   "source": [
    "# Video file\n",
    "video_path = \"your_video_path.mp4\"\n",
    "video = cv2.VideoCapture(video_path)\n",
    "\n",
    "while True:\n",
    " \n",
    "    ret, frame = video.read()\n",
    "    if not ret:\n",
    "        break\n",
    "    \n",
    "    cv2.imshow(\"Video\", frame)\n",
    "    \n",
    "    if cv2.waitKey(1) & 0xFF == ord('q'):\n",
    "        break\n",
    "        \n",
    "video.release()\n",
    "cv2.destroyAllWindows()"
   ]
  },
  {
   "cell_type": "code",
   "execution_count": 19,
   "id": "01d7d151",
   "metadata": {},
   "outputs": [],
   "source": [
    "# Video Cam\n",
    "video = cv2.VideoCapture(0)\n",
    "\n",
    "while True:\n",
    "    \n",
    "    ret, frame = video.read()\n",
    "    if not ret:\n",
    "        break\n",
    "    \n",
    "    cv2.imshow(\"Video\", frame)\n",
    "    \n",
    "    if cv2.waitKey(1) & 0xFF == ord('q'):\n",
    "        break\n",
    "\n",
    "video.release()\n",
    "cv2.destroyAllWindows()"
   ]
  },
  {
   "cell_type": "code",
   "execution_count": null,
   "id": "586dfd5e",
   "metadata": {},
   "outputs": [],
   "source": [
    "# Import essential libraries \n",
    "import requests \n",
    "import cv2 \n",
    "import numpy as np \n",
    "import imutils \n",
    "\n",
    "# Replace the below URL with your own. Make sure to add \"/shot.jpg\" at last. \n",
    "url = \"your_url/shot.jpg\"\n",
    "\n",
    "# While loop to continuously fetching data from the Url \n",
    "while True: \n",
    "    img_resp = requests.get(url) \n",
    "    img_arr = np.array(bytearray(img_resp.content), dtype=np.uint8) \n",
    "    img = cv2.imdecode(img_arr, -1) \n",
    "    img = imutils.resize(img, width=1000, height=1800) \n",
    "    cv2.imshow(\"Android_cam\", img) \n",
    "\n",
    "    # Press Esc key to exit \n",
    "    if cv2.waitKey(1) == 27: \n",
    "        break\n",
    "\n",
    "cv2.destroyAllWindows() "
   ]
  }
 ],
 "metadata": {
  "kernelspec": {
   "display_name": "Python 3 (ipykernel)",
   "language": "python",
   "name": "python3"
  },
  "language_info": {
   "codemirror_mode": {
    "name": "ipython",
    "version": 3
   },
   "file_extension": ".py",
   "mimetype": "text/x-python",
   "name": "python",
   "nbconvert_exporter": "python",
   "pygments_lexer": "ipython3",
   "version": "3.11.5"
  }
 },
 "nbformat": 4,
 "nbformat_minor": 5
}
